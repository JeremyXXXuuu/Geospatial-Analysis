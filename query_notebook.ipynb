{
 "cells": [
  {
   "cell_type": "code",
   "execution_count": 1,
   "metadata": {},
   "outputs": [],
   "source": [
    "from formulas import map_splitter, bing_maps_query\n",
    "#from secrets import BING_MAPS_KEY\n",
    "# from tqdm import tqdm_notebook\n",
    "# import matplotlib.pyplot as plt\n",
    "import time\n",
    "import requests\n",
    "import pandas as pd\n",
    "import os\n",
    "import json\n",
    "# import matplotlib.pyplot as plt\n",
    "# import matplotlib.pyplot as plt\n",
    "bing_maps_key = 'AuCDcKvGx8B61mmu0Z1inMXMOE77a6iJHa9KsUm2IgtXbHatPGiJNvT8qYFp0Wfj'"
   ]
  },
  {
   "cell_type": "code",
   "execution_count": 2,
   "metadata": {},
   "outputs": [],
   "source": [
    "pwd = os.getcwd()"
   ]
  },
  {
   "cell_type": "code",
   "execution_count": 3,
   "metadata": {},
   "outputs": [
    {
     "data": {
      "text/html": [
       "<div>\n",
       "<style scoped>\n",
       "    .dataframe tbody tr th:only-of-type {\n",
       "        vertical-align: middle;\n",
       "    }\n",
       "\n",
       "    .dataframe tbody tr th {\n",
       "        vertical-align: top;\n",
       "    }\n",
       "\n",
       "    .dataframe thead th {\n",
       "        text-align: right;\n",
       "    }\n",
       "</style>\n",
       "<table border=\"1\" class=\"dataframe\">\n",
       "  <thead>\n",
       "    <tr style=\"text-align: right;\">\n",
       "      <th></th>\n",
       "      <th>Unnamed: 0</th>\n",
       "      <th>Latitude</th>\n",
       "      <th>Longitude</th>\n",
       "      <th>Unnamed: 3</th>\n",
       "      <th>Unnamed: 4</th>\n",
       "      <th>Unnamed: 5</th>\n",
       "    </tr>\n",
       "  </thead>\n",
       "  <tbody>\n",
       "    <tr>\n",
       "      <th>0</th>\n",
       "      <td>Upper Left</td>\n",
       "      <td>-121.59375</td>\n",
       "      <td>38.68677</td>\n",
       "      <td>NaN</td>\n",
       "      <td>factor</td>\n",
       "      <td>5.0</td>\n",
       "    </tr>\n",
       "    <tr>\n",
       "      <th>1</th>\n",
       "      <td>Lower Left</td>\n",
       "      <td>-121.59375</td>\n",
       "      <td>38.63677</td>\n",
       "      <td>NaN</td>\n",
       "      <td>NaN</td>\n",
       "      <td>NaN</td>\n",
       "    </tr>\n",
       "    <tr>\n",
       "      <th>2</th>\n",
       "      <td>Upper Right</td>\n",
       "      <td>-121.54375</td>\n",
       "      <td>38.68677</td>\n",
       "      <td>NaN</td>\n",
       "      <td>NaN</td>\n",
       "      <td>NaN</td>\n",
       "    </tr>\n",
       "    <tr>\n",
       "      <th>3</th>\n",
       "      <td>Lower Right</td>\n",
       "      <td>-121.54375</td>\n",
       "      <td>38.63677</td>\n",
       "      <td>NaN</td>\n",
       "      <td>NaN</td>\n",
       "      <td>NaN</td>\n",
       "    </tr>\n",
       "  </tbody>\n",
       "</table>\n",
       "</div>"
      ],
      "text/plain": [
       "    Unnamed: 0   Latitude  Longitude  Unnamed: 3 Unnamed: 4  Unnamed: 5\n",
       "0   Upper Left -121.59375   38.68677         NaN     factor         5.0\n",
       "1   Lower Left -121.59375   38.63677         NaN        NaN         NaN\n",
       "2  Upper Right -121.54375   38.68677         NaN        NaN         NaN\n",
       "3  Lower Right -121.54375   38.63677         NaN        NaN         NaN"
      ]
     },
     "execution_count": 3,
     "metadata": {},
     "output_type": "execute_result"
    }
   ],
   "source": [
    "coordinates = pd.read_csv(pwd + \"/Square Builder.csv\")\n",
    "coordinates"
   ]
  },
  {
   "cell_type": "code",
   "execution_count": 4,
   "metadata": {},
   "outputs": [],
   "source": [
    "pwd = os.getcwd()\n",
    "base_url = \"http://spatial.virtualearth.net/REST/v1/data/Microsoft/PointsOfInterest?\"\n",
    "sq_km = \"1\"\n",
    "bing_maps_key = BING_MAPS_KEY"
   ]
  },
  {
   "cell_type": "code",
   "execution_count": 5,
   "metadata": {},
   "outputs": [],
   "source": [
    "upper_left = [coordinates.iloc[0, 1], coordinates.iloc[0, 2]]\n",
    "lower_left = [coordinates.iloc[1, 1], coordinates.iloc[1, 2]]\n",
    "upper_right = [coordinates.iloc[2, 1], coordinates.iloc[2, 2]]\n",
    "lower_right = [coordinates.iloc[3, 1], coordinates.iloc[3, 2]]"
   ]
  },
  {
   "cell_type": "code",
   "execution_count": 6,
   "metadata": {},
   "outputs": [],
   "source": [
    "query_points = map_splitter(upper_left, upper_right, lower_right)"
   ]
  },
  {
   "cell_type": "code",
   "execution_count": 7,
   "metadata": {},
   "outputs": [
    {
     "data": {
      "text/plain": [
       "[['-121.584740990991', '38.677760990991'],\n",
       " ['-121.584740990991', '38.65974297297298'],\n",
       " ['-121.584740990991', '38.64172495495496'],\n",
       " ['-121.56672297297298', '38.677760990991'],\n",
       " ['-121.56672297297298', '38.65974297297298'],\n",
       " ['-121.56672297297298', '38.64172495495496'],\n",
       " ['-121.54870495495497', '38.677760990991'],\n",
       " ['-121.54870495495497', '38.65974297297298'],\n",
       " ['-121.54870495495497', '38.64172495495496'],\n",
       " ['-121.59375', '38.68677'],\n",
       " ['-121.59375', '38.668751981981984'],\n",
       " ['-121.59375', '38.650733963963965'],\n",
       " ['-121.57573198198199', '38.68677'],\n",
       " ['-121.57573198198199', '38.668751981981984'],\n",
       " ['-121.57573198198199', '38.650733963963965'],\n",
       " ['-121.55771396396398', '38.68677'],\n",
       " ['-121.55771396396398', '38.668751981981984'],\n",
       " ['-121.55771396396398', '38.650733963963965']]"
      ]
     },
     "execution_count": 7,
     "metadata": {},
     "output_type": "execute_result"
    }
   ],
   "source": [
    "query_points"
   ]
  },
  {
   "cell_type": "code",
   "execution_count": 8,
   "metadata": {},
   "outputs": [],
   "source": [
    "x = [z[0] for z in query_points]\n",
    "y = [a[1] for a in query_points]"
   ]
  },
  {
   "cell_type": "code",
   "execution_count": 9,
   "metadata": {},
   "outputs": [],
   "source": [
    "# plt.scatter(x, y)"
   ]
  },
  {
   "cell_type": "code",
   "execution_count": 11,
   "metadata": {},
   "outputs": [
    {
     "ename": "TypeError",
     "evalue": "can only concatenate str (not \"function\") to str",
     "output_type": "error",
     "traceback": [
      "\u001b[1;31m---------------------------------------------------------------------------\u001b[0m",
      "\u001b[1;31mTypeError\u001b[0m                                 Traceback (most recent call last)",
      "\u001b[1;32m~\\AppData\\Local\\Temp/ipykernel_41068/3982954809.py\u001b[0m in \u001b[0;36m<module>\u001b[1;34m\u001b[0m\n\u001b[0;32m      2\u001b[0m \u001b[0mcounter\u001b[0m \u001b[1;33m=\u001b[0m \u001b[1;36m0\u001b[0m\u001b[1;33m\u001b[0m\u001b[1;33m\u001b[0m\u001b[0m\n\u001b[0;32m      3\u001b[0m \u001b[1;32mfor\u001b[0m \u001b[0mi\u001b[0m \u001b[1;32min\u001b[0m \u001b[0mquery_points\u001b[0m\u001b[1;33m:\u001b[0m\u001b[1;33m\u001b[0m\u001b[1;33m\u001b[0m\u001b[0m\n\u001b[1;32m----> 4\u001b[1;33m     \u001b[0mto_save\u001b[0m \u001b[1;33m=\u001b[0m \u001b[0mbing_maps_query\u001b[0m\u001b[1;33m(\u001b[0m\u001b[0mi\u001b[0m\u001b[1;33m[\u001b[0m\u001b[1;36m0\u001b[0m\u001b[1;33m]\u001b[0m\u001b[1;33m,\u001b[0m \u001b[0mi\u001b[0m\u001b[1;33m[\u001b[0m\u001b[1;36m1\u001b[0m\u001b[1;33m]\u001b[0m\u001b[1;33m,\u001b[0m \u001b[1;36m1\u001b[0m\u001b[1;33m,\u001b[0m \u001b[0mentity_input\u001b[0m\u001b[1;33m,\u001b[0m \u001b[0mbing_maps_key\u001b[0m\u001b[1;33m,\u001b[0m \u001b[0mbase_url\u001b[0m\u001b[1;33m)\u001b[0m\u001b[1;33m\u001b[0m\u001b[1;33m\u001b[0m\u001b[0m\n\u001b[0m\u001b[0;32m      5\u001b[0m \u001b[1;33m\u001b[0m\u001b[0m\n\u001b[0;32m      6\u001b[0m     \u001b[1;32mwith\u001b[0m \u001b[0mopen\u001b[0m\u001b[1;33m(\u001b[0m\u001b[0mpwd\u001b[0m \u001b[1;33m+\u001b[0m \u001b[1;34mf\"\\\\{str(counter)}.txt\"\u001b[0m\u001b[1;33m,\u001b[0m \u001b[1;34m'w'\u001b[0m\u001b[1;33m)\u001b[0m \u001b[1;32mas\u001b[0m \u001b[0moutfile\u001b[0m\u001b[1;33m:\u001b[0m\u001b[1;33m\u001b[0m\u001b[1;33m\u001b[0m\u001b[0m\n",
      "\u001b[1;32md:\\Dev\\Data Science learn\\learn-from-youtube\\Geospatial-Analysis-YouTube-Video\\formulas.py\u001b[0m in \u001b[0;36mbing_maps_query\u001b[1;34m(center_point_long, center_point_lat, radius, entity_input, BING_MAPS_KEY, base_url)\u001b[0m\n\u001b[0;32m     47\u001b[0m     \u001b[0mquery_components\u001b[0m \u001b[1;33m=\u001b[0m \u001b[1;34m\"EntityID,DisplayName,Phone,Latitude,Longitude\"\u001b[0m\u001b[1;33m\u001b[0m\u001b[1;33m\u001b[0m\u001b[0m\n\u001b[0;32m     48\u001b[0m \u001b[1;33m\u001b[0m\u001b[0m\n\u001b[1;32m---> 49\u001b[1;33m     \u001b[0mquery\u001b[0m \u001b[1;33m=\u001b[0m \u001b[1;34m\"spatialFilter=nearby(\"\u001b[0m \u001b[1;33m+\u001b[0m \u001b[0mcenter_point_lat\u001b[0m \u001b[1;33m+\u001b[0m \u001b[1;34m\",\"\u001b[0m \u001b[1;33m+\u001b[0m \u001b[0mcenter_point_long\u001b[0m \u001b[1;33m+\u001b[0m \u001b[1;34m\",\"\u001b[0m \u001b[1;33m+\u001b[0m \u001b[0msq_km\u001b[0m \u001b[1;33m+\u001b[0m \u001b[1;34m\")&$filter=EntityTypeID%20eq%20'\"\u001b[0m \u001b[1;33m+\u001b[0m \u001b[0mentity_type\u001b[0m \u001b[1;33m+\u001b[0m  \u001b[1;34m\"'&key=\"\u001b[0m \u001b[1;33m+\u001b[0m \u001b[0mbing_maps_key\u001b[0m \u001b[1;33m+\u001b[0m \u001b[1;34m\"&$format=json\"\u001b[0m\u001b[1;33m\u001b[0m\u001b[1;33m\u001b[0m\u001b[0m\n\u001b[0m\u001b[0;32m     50\u001b[0m \u001b[1;33m\u001b[0m\u001b[0m\n\u001b[0;32m     51\u001b[0m     \u001b[0mURL\u001b[0m \u001b[1;33m=\u001b[0m \u001b[0mbase_url\u001b[0m \u001b[1;33m+\u001b[0m \u001b[0mquery\u001b[0m\u001b[1;33m\u001b[0m\u001b[1;33m\u001b[0m\u001b[0m\n",
      "\u001b[1;31mTypeError\u001b[0m: can only concatenate str (not \"function\") to str"
     ]
    }
   ],
   "source": [
    "entity_input = str(8211)\n",
    "counter = 0\n",
    "for i in query_points:\n",
    "    to_save = bing_maps_query(i[0], i[1], 1, entity_input, bing_maps_key, base_url)\n",
    "\n",
    "    with open(pwd + f\"\\\\{str(counter)}.txt\", 'w') as outfile:\n",
    "        json.dump(to_save, outfile) # Save to make sure that I don't lose data\n",
    "\n",
    "    counter += 1"
   ]
  },
  {
   "cell_type": "code",
   "execution_count": 9,
   "metadata": {},
   "outputs": [],
   "source": [
    "with open(pwd + \"/7.txt\") as f:\n",
    "    json_data = json.load(f)\n",
    "    data = json_data.get(\"d\").get(\"results\")"
   ]
  },
  {
   "cell_type": "code",
   "execution_count": 11,
   "metadata": {},
   "outputs": [
    {
     "data": {
      "text/html": [
       "<div>\n",
       "<style scoped>\n",
       "    .dataframe tbody tr th:only-of-type {\n",
       "        vertical-align: middle;\n",
       "    }\n",
       "\n",
       "    .dataframe tbody tr th {\n",
       "        vertical-align: top;\n",
       "    }\n",
       "\n",
       "    .dataframe thead th {\n",
       "        text-align: right;\n",
       "    }\n",
       "</style>\n",
       "<table border=\"1\" class=\"dataframe\">\n",
       "  <thead>\n",
       "    <tr style=\"text-align: right;\">\n",
       "      <th></th>\n",
       "      <th>__metadata</th>\n",
       "      <th>EntityID</th>\n",
       "      <th>Name</th>\n",
       "      <th>DisplayName</th>\n",
       "      <th>Latitude</th>\n",
       "      <th>Longitude</th>\n",
       "      <th>AddressLine</th>\n",
       "      <th>Locality</th>\n",
       "      <th>AdminDistrict2</th>\n",
       "      <th>AdminDistrict</th>\n",
       "      <th>PostalCode</th>\n",
       "      <th>CountryRegion</th>\n",
       "      <th>Phone</th>\n",
       "      <th>EntityTypeID</th>\n",
       "      <th>SubEntityTypeID</th>\n",
       "    </tr>\n",
       "  </thead>\n",
       "  <tbody>\n",
       "    <tr>\n",
       "      <th>0</th>\n",
       "      <td>{'uri': 'http://spatial.virtualearth.net/REST/...</td>\n",
       "      <td>5057789251710615565</td>\n",
       "      <td>Natomas Child Care Center Development</td>\n",
       "      <td>Natomas Child Care Center Development</td>\n",
       "      <td>38.662104</td>\n",
       "      <td>-121.546726</td>\n",
       "      <td>720 Hawkcrest Cir</td>\n",
       "      <td>Sacramento</td>\n",
       "      <td>Sacramento</td>\n",
       "      <td>California</td>\n",
       "      <td>95835</td>\n",
       "      <td>USA</td>\n",
       "      <td>+(1)-(916)-9281777</td>\n",
       "      <td>8211</td>\n",
       "      <td>155</td>\n",
       "    </tr>\n",
       "    <tr>\n",
       "      <th>1</th>\n",
       "      <td>{'uri': 'http://spatial.virtualearth.net/REST/...</td>\n",
       "      <td>5057789253858099229</td>\n",
       "      <td>Westlake Charter Elementary</td>\n",
       "      <td>Westlake Charter Elementary</td>\n",
       "      <td>38.655249</td>\n",
       "      <td>-121.547640</td>\n",
       "      <td>2680 Mabry Drive</td>\n",
       "      <td>Sacramento</td>\n",
       "      <td>Sacramento</td>\n",
       "      <td>California</td>\n",
       "      <td>95834</td>\n",
       "      <td>USA</td>\n",
       "      <td>+(1)-(916)-5675760</td>\n",
       "      <td>8211</td>\n",
       "      <td>155</td>\n",
       "    </tr>\n",
       "    <tr>\n",
       "      <th>2</th>\n",
       "      <td>{'uri': 'http://spatial.virtualearth.net/REST/...</td>\n",
       "      <td>8500509100512116741</td>\n",
       "      <td>Paso Verde School</td>\n",
       "      <td>Paso Verde School</td>\n",
       "      <td>38.655392</td>\n",
       "      <td>-121.550858</td>\n",
       "      <td>3800 Del Paso Rd</td>\n",
       "      <td>Sacramento</td>\n",
       "      <td>Sacramento</td>\n",
       "      <td>California</td>\n",
       "      <td>95834</td>\n",
       "      <td>USA</td>\n",
       "      <td></td>\n",
       "      <td>8211</td>\n",
       "      <td>155</td>\n",
       "    </tr>\n",
       "    <tr>\n",
       "      <th>3</th>\n",
       "      <td>{'uri': 'http://spatial.virtualearth.net/REST/...</td>\n",
       "      <td>5057789243623997472</td>\n",
       "      <td>Np</td>\n",
       "      <td>Np</td>\n",
       "      <td>38.654607</td>\n",
       "      <td>-121.546847</td>\n",
       "      <td>3700 Del Paso Rd</td>\n",
       "      <td>Sacramento</td>\n",
       "      <td>Sacramento</td>\n",
       "      <td>California</td>\n",
       "      <td>95834</td>\n",
       "      <td>USA</td>\n",
       "      <td>+(1)-(916)-5675762</td>\n",
       "      <td>8211</td>\n",
       "      <td>155</td>\n",
       "    </tr>\n",
       "    <tr>\n",
       "      <th>4</th>\n",
       "      <td>{'uri': 'http://spatial.virtualearth.net/REST/...</td>\n",
       "      <td>5057789254210420744</td>\n",
       "      <td>Natomas Charter Junior High School</td>\n",
       "      <td>Natomas Charter Junior High School</td>\n",
       "      <td>38.654610</td>\n",
       "      <td>-121.546729</td>\n",
       "      <td></td>\n",
       "      <td>Sacramento</td>\n",
       "      <td>Sacramento</td>\n",
       "      <td>California</td>\n",
       "      <td></td>\n",
       "      <td>USA</td>\n",
       "      <td></td>\n",
       "      <td>8211</td>\n",
       "      <td>155</td>\n",
       "    </tr>\n",
       "  </tbody>\n",
       "</table>\n",
       "</div>"
      ],
      "text/plain": [
       "                                          __metadata             EntityID  \\\n",
       "0  {'uri': 'http://spatial.virtualearth.net/REST/...  5057789251710615565   \n",
       "1  {'uri': 'http://spatial.virtualearth.net/REST/...  5057789253858099229   \n",
       "2  {'uri': 'http://spatial.virtualearth.net/REST/...  8500509100512116741   \n",
       "3  {'uri': 'http://spatial.virtualearth.net/REST/...  5057789243623997472   \n",
       "4  {'uri': 'http://spatial.virtualearth.net/REST/...  5057789254210420744   \n",
       "\n",
       "                                    Name  \\\n",
       "0  Natomas Child Care Center Development   \n",
       "1            Westlake Charter Elementary   \n",
       "2                      Paso Verde School   \n",
       "3                                     Np   \n",
       "4     Natomas Charter Junior High School   \n",
       "\n",
       "                             DisplayName   Latitude   Longitude  \\\n",
       "0  Natomas Child Care Center Development  38.662104 -121.546726   \n",
       "1            Westlake Charter Elementary  38.655249 -121.547640   \n",
       "2                      Paso Verde School  38.655392 -121.550858   \n",
       "3                                     Np  38.654607 -121.546847   \n",
       "4     Natomas Charter Junior High School  38.654610 -121.546729   \n",
       "\n",
       "         AddressLine    Locality AdminDistrict2 AdminDistrict PostalCode  \\\n",
       "0  720 Hawkcrest Cir  Sacramento     Sacramento    California      95835   \n",
       "1   2680 Mabry Drive  Sacramento     Sacramento    California      95834   \n",
       "2   3800 Del Paso Rd  Sacramento     Sacramento    California      95834   \n",
       "3   3700 Del Paso Rd  Sacramento     Sacramento    California      95834   \n",
       "4                     Sacramento     Sacramento    California              \n",
       "\n",
       "  CountryRegion               Phone EntityTypeID SubEntityTypeID  \n",
       "0           USA  +(1)-(916)-9281777         8211             155  \n",
       "1           USA  +(1)-(916)-5675760         8211             155  \n",
       "2           USA                             8211             155  \n",
       "3           USA  +(1)-(916)-5675762         8211             155  \n",
       "4           USA                             8211             155  "
      ]
     },
     "execution_count": 11,
     "metadata": {},
     "output_type": "execute_result"
    }
   ],
   "source": [
    "pd.DataFrame(data)"
   ]
  },
  {
   "cell_type": "code",
   "execution_count": null,
   "metadata": {},
   "outputs": [],
   "source": []
  }
 ],
 "metadata": {
  "kernelspec": {
   "display_name": "Python 3",
   "language": "python",
   "name": "python3"
  },
  "language_info": {
   "codemirror_mode": {
    "name": "ipython",
    "version": 3
   },
   "file_extension": ".py",
   "mimetype": "text/x-python",
   "name": "python",
   "nbconvert_exporter": "python",
   "pygments_lexer": "ipython3",
   "version": "3.8.5"
  },
  "orig_nbformat": 2
 },
 "nbformat": 4,
 "nbformat_minor": 2
}
